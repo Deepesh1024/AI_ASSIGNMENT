{
  "cells": [
    {
      "cell_type": "markdown",
      "metadata": {
        "id": "cKdfzgHh0Ut8"
      },
      "source": [
        "### Question : Calculate and interpret mean, median, mode, variance and standard deviation for a given dataset.\n",
        "Data =[ 15,21,29,21,15,24,32,21,15,30]"
      ]
    },
    {
      "cell_type": "code",
      "execution_count": 2,
      "metadata": {
        "id": "K4eF73ZHzl8R"
      },
      "outputs": [],
      "source": [
        "import numpy as np\n",
        "from scipy import stats"
      ]
    },
    {
      "cell_type": "code",
      "execution_count": 3,
      "metadata": {
        "id": "EgzOpZf2zup-"
      },
      "outputs": [],
      "source": [
        "x = np.array([15,21,29,21,15,24,32,21,15,30])\n",
        "mean = np.mean(x)\n",
        "median = np.median(x)\n",
        "mode = stats.mode(x)\n",
        "variance = np.var(x)\n",
        "s_dev = np.std(x)"
      ]
    },
    {
      "cell_type": "code",
      "execution_count": 6,
      "metadata": {
        "id": "RfJ1cZW40SAH"
      },
      "outputs": [],
      "source": [
        "metrics = dict(mean = mean, median = median, mode = mode, variance = variance, standard_deviation = s_dev)"
      ]
    },
    {
      "cell_type": "code",
      "execution_count": 7,
      "metadata": {
        "colab": {
          "base_uri": "https://localhost:8080/"
        },
        "id": "8fShGGVd1Z2y",
        "outputId": "8f84c214-cf48-4afd-bc08-2f313bea4526"
      },
      "outputs": [
        {
          "data": {
            "text/plain": [
              "{'mean': 22.3,\n",
              " 'median': 21.0,\n",
              " 'mode': ModeResult(mode=15, count=3),\n",
              " 'variance': 36.61,\n",
              " 'standard_deviation': 6.050619802962338}"
            ]
          },
          "execution_count": 7,
          "metadata": {},
          "output_type": "execute_result"
        }
      ],
      "source": [
        "metrics"
      ]
    },
    {
      "cell_type": "markdown",
      "metadata": {},
      "source": [
        "## ROBOT DATA"
      ]
    },
    {
      "cell_type": "code",
      "execution_count": 25,
      "metadata": {
        "id": "RmV5x67t1bLH"
      },
      "outputs": [],
      "source": [
        "import pandas as pd \n",
        "import matplotlib.pyplot as plt\n",
        "import seaborn as sns"
      ]
    },
    {
      "cell_type": "code",
      "execution_count": 10,
      "metadata": {},
      "outputs": [],
      "source": [
        "df = pd.read_csv('robot_dataset(robot_dataset)_1(in).csv')"
      ]
    },
    {
      "cell_type": "code",
      "execution_count": 12,
      "metadata": {},
      "outputs": [
        {
          "data": {
            "text/html": [
              "<div>\n",
              "<style scoped>\n",
              "    .dataframe tbody tr th:only-of-type {\n",
              "        vertical-align: middle;\n",
              "    }\n",
              "\n",
              "    .dataframe tbody tr th {\n",
              "        vertical-align: top;\n",
              "    }\n",
              "\n",
              "    .dataframe thead th {\n",
              "        text-align: right;\n",
              "    }\n",
              "</style>\n",
              "<table border=\"1\" class=\"dataframe\">\n",
              "  <thead>\n",
              "    <tr style=\"text-align: right;\">\n",
              "      <th></th>\n",
              "      <th>Robot_ID</th>\n",
              "      <th>Task_Type</th>\n",
              "      <th>Component_ID</th>\n",
              "      <th>Sensor_Type</th>\n",
              "      <th>Sensor_Data</th>\n",
              "      <th>Processing_Time (s)</th>\n",
              "      <th>Accuracy (%)</th>\n",
              "      <th>Environmental_Status</th>\n",
              "      <th>Energy_Consumption (kWh)</th>\n",
              "      <th>Human_Intervention_Needed</th>\n",
              "      <th>Obstacle_Detected</th>\n",
              "      <th>Defect_Detected</th>\n",
              "      <th>Interaction_Count</th>\n",
              "      <th>Steps_Walked</th>\n",
              "      <th>Objects_Recognized</th>\n",
              "      <th>Learning_Sessions</th>\n",
              "      <th>Energy_Consumption (kWh).1</th>\n",
              "    </tr>\n",
              "  </thead>\n",
              "  <tbody>\n",
              "    <tr>\n",
              "      <th>0</th>\n",
              "      <td>RBT_001</td>\n",
              "      <td>Inspection</td>\n",
              "      <td>CMP_460</td>\n",
              "      <td>LIDAR</td>\n",
              "      <td>1 (obstacle detected)</td>\n",
              "      <td>67.0</td>\n",
              "      <td>90.4</td>\n",
              "      <td>Stable</td>\n",
              "      <td>2.2</td>\n",
              "      <td>No</td>\n",
              "      <td>Yes</td>\n",
              "      <td>Yes</td>\n",
              "      <td>2</td>\n",
              "      <td>10</td>\n",
              "      <td>2</td>\n",
              "      <td>10</td>\n",
              "      <td>100</td>\n",
              "    </tr>\n",
              "    <tr>\n",
              "      <th>1</th>\n",
              "      <td>RBT_002</td>\n",
              "      <td>Assembly</td>\n",
              "      <td>CMP_252</td>\n",
              "      <td>Thermal</td>\n",
              "      <td>85.3 (°C)</td>\n",
              "      <td>71.2</td>\n",
              "      <td>98.1</td>\n",
              "      <td>Stable</td>\n",
              "      <td>2.7</td>\n",
              "      <td>Yes</td>\n",
              "      <td>No</td>\n",
              "      <td>No</td>\n",
              "      <td>6</td>\n",
              "      <td>23</td>\n",
              "      <td>4</td>\n",
              "      <td>12</td>\n",
              "      <td>123</td>\n",
              "    </tr>\n",
              "    <tr>\n",
              "      <th>2</th>\n",
              "      <td>RBT_003</td>\n",
              "      <td>Inspection</td>\n",
              "      <td>CMP_248</td>\n",
              "      <td>Thermal</td>\n",
              "      <td>92% (visual fit)</td>\n",
              "      <td>49.2</td>\n",
              "      <td>95.3</td>\n",
              "      <td>Unstable</td>\n",
              "      <td>2.4</td>\n",
              "      <td>No</td>\n",
              "      <td>No</td>\n",
              "      <td>No</td>\n",
              "      <td>2</td>\n",
              "      <td>25</td>\n",
              "      <td>3</td>\n",
              "      <td>45</td>\n",
              "      <td>321</td>\n",
              "    </tr>\n",
              "    <tr>\n",
              "      <th>3</th>\n",
              "      <td>RBT_004</td>\n",
              "      <td>Welding</td>\n",
              "      <td>CMP_433</td>\n",
              "      <td>Camera</td>\n",
              "      <td>98% (defect-free)</td>\n",
              "      <td>74.5</td>\n",
              "      <td>90.2</td>\n",
              "      <td>Stable</td>\n",
              "      <td>2.4</td>\n",
              "      <td>Yes</td>\n",
              "      <td>No</td>\n",
              "      <td>Yes</td>\n",
              "      <td>7</td>\n",
              "      <td>34</td>\n",
              "      <td>5</td>\n",
              "      <td>12</td>\n",
              "      <td>456</td>\n",
              "    </tr>\n",
              "    <tr>\n",
              "      <th>4</th>\n",
              "      <td>RBT_005</td>\n",
              "      <td>Assembly</td>\n",
              "      <td>CMP_992</td>\n",
              "      <td>Camera</td>\n",
              "      <td>92% (visual fit)</td>\n",
              "      <td>64.5</td>\n",
              "      <td>97.2</td>\n",
              "      <td>Unstable</td>\n",
              "      <td>1.8</td>\n",
              "      <td>No</td>\n",
              "      <td>No</td>\n",
              "      <td>No</td>\n",
              "      <td>8</td>\n",
              "      <td>35</td>\n",
              "      <td>3</td>\n",
              "      <td>32</td>\n",
              "      <td>654</td>\n",
              "    </tr>\n",
              "  </tbody>\n",
              "</table>\n",
              "</div>"
            ],
            "text/plain": [
              "  Robot_ID   Task_Type Component_ID Sensor_Type            Sensor_Data  \\\n",
              "0  RBT_001  Inspection      CMP_460       LIDAR  1 (obstacle detected)   \n",
              "1  RBT_002    Assembly      CMP_252     Thermal              85.3 (°C)   \n",
              "2  RBT_003  Inspection      CMP_248     Thermal       92% (visual fit)   \n",
              "3  RBT_004     Welding      CMP_433      Camera      98% (defect-free)   \n",
              "4  RBT_005    Assembly      CMP_992      Camera       92% (visual fit)   \n",
              "\n",
              "   Processing_Time (s)  Accuracy (%) Environmental_Status  \\\n",
              "0                 67.0          90.4               Stable   \n",
              "1                 71.2          98.1               Stable   \n",
              "2                 49.2          95.3             Unstable   \n",
              "3                 74.5          90.2               Stable   \n",
              "4                 64.5          97.2             Unstable   \n",
              "\n",
              "   Energy_Consumption (kWh) Human_Intervention_Needed Obstacle_Detected  \\\n",
              "0                       2.2                        No               Yes   \n",
              "1                       2.7                       Yes                No   \n",
              "2                       2.4                        No                No   \n",
              "3                       2.4                       Yes                No   \n",
              "4                       1.8                        No                No   \n",
              "\n",
              "  Defect_Detected  Interaction_Count  Steps_Walked  Objects_Recognized  \\\n",
              "0             Yes                  2            10                   2   \n",
              "1              No                  6            23                   4   \n",
              "2              No                  2            25                   3   \n",
              "3             Yes                  7            34                   5   \n",
              "4              No                  8            35                   3   \n",
              "\n",
              "   Learning_Sessions  Energy_Consumption (kWh).1  \n",
              "0                 10                         100  \n",
              "1                 12                         123  \n",
              "2                 45                         321  \n",
              "3                 12                         456  \n",
              "4                 32                         654  "
            ]
          },
          "execution_count": 12,
          "metadata": {},
          "output_type": "execute_result"
        }
      ],
      "source": [
        "df.head()"
      ]
    },
    {
      "cell_type": "markdown",
      "metadata": {},
      "source": [
        "### Question : What is the average (mean) number of conversations the robot has daily?"
      ]
    },
    {
      "cell_type": "code",
      "execution_count": 16,
      "metadata": {},
      "outputs": [
        {
          "data": {
            "text/plain": [
              "5.51"
            ]
          },
          "execution_count": 16,
          "metadata": {},
          "output_type": "execute_result"
        }
      ],
      "source": [
        "x = np.array(df['Interaction_Count'])\n",
        "mean_interaction = np.mean(x)\n",
        "mean_interaction"
      ]
    },
    {
      "cell_type": "markdown",
      "metadata": {},
      "source": [
        "### Question : Find the total steps walked by the robot over a given period"
      ]
    },
    {
      "cell_type": "code",
      "execution_count": 17,
      "metadata": {},
      "outputs": [
        {
          "data": {
            "text/plain": [
              "28.758"
            ]
          },
          "execution_count": 17,
          "metadata": {},
          "output_type": "execute_result"
        }
      ],
      "source": [
        "y = np.array(df['Steps_Walked'])\n",
        "mean_steps = np.mean(y)\n",
        "mean_steps"
      ]
    },
    {
      "cell_type": "markdown",
      "metadata": {},
      "source": [
        "### Determine the maximum and minimum energy consumption in the dataset."
      ]
    },
    {
      "cell_type": "code",
      "execution_count": 19,
      "metadata": {},
      "outputs": [],
      "source": [
        "z = np.array(df['Energy_Consumption (kWh).1'])\n",
        "max_energy = np.max(z)\n",
        "min_energy = np.min(z)"
      ]
    },
    {
      "cell_type": "markdown",
      "metadata": {},
      "source": [
        "### Question : Calculate the correlation between the number of steps walked and energy consumption."
      ]
    },
    {
      "cell_type": "code",
      "execution_count": 24,
      "metadata": {},
      "outputs": [
        {
          "data": {
            "text/plain": [
              "0.050369264265320374"
            ]
          },
          "execution_count": 24,
          "metadata": {},
          "output_type": "execute_result"
        }
      ],
      "source": [
        "# I have used simple correlation because it has a linear relationship test on kendall and spearman correlation equations \n",
        "correlation = df['Steps_Walked'].corr(df['Energy_Consumption (kWh).1'])\n",
        "correlation"
      ]
    },
    {
      "cell_type": "markdown",
      "metadata": {},
      "source": [
        "### Question : Analyze the distribution of objects recognized daily (e.g., histogram or box plot)."
      ]
    },
    {
      "cell_type": "code",
      "execution_count": 28,
      "metadata": {},
      "outputs": [
        {
          "data": {
            "image/png": "[encoded data removed]",
            "text/plain": [
              "<Figure size 500x300 with 1 Axes>"
            ]
          },
          "metadata": {},
          "output_type": "display_data"
        }
      ],
      "source": [
        "#histogram\n",
        "\n",
        "plt.figure(figsize=(5, 3))\n",
        "sns.histplot(df['Objects_Recognized'], bins=20, kde=True, color=\"blue\")\n",
        "plt.xlabel(\"Number of Objects Recognized\")\n",
        "plt.ylabel(\"Frequency\")\n",
        "plt.title(\"Distribution of Objects Recognized Daily\")\n",
        "plt.grid(True)\n",
        "plt.show()\n"
      ]
    },
    {
      "cell_type": "code",
      "execution_count": 32,
      "metadata": {},
      "outputs": [
        {
          "data": {
            "image/png": "[encoded data removed]",
            "text/plain": [
              "<Figure size 500x200 with 1 Axes>"
            ]
          },
          "metadata": {},
          "output_type": "display_data"
        }
      ],
      "source": [
        "#boxplot \n",
        "\n",
        "plt.figure(figsize=(5, 2))\n",
        "sns.boxplot(x=df['Objects_Recognized'], color=\"green\")\n",
        "plt.xlabel(\"Number of Objects Recognized\")\n",
        "plt.title(\"Box Plot of Objects Recognized Daily\")\n",
        "plt.grid(True)\n",
        "plt.show()\n"
      ]
    },
    {
      "cell_type": "markdown",
      "metadata": {},
      "source": [
        "#### Question : What is the variance in the number of learning sessions completed?"
      ]
    },
    {
      "cell_type": "code",
      "execution_count": 33,
      "metadata": {},
      "outputs": [
        {
          "data": {
            "text/plain": [
              "391.1584"
            ]
          },
          "execution_count": 33,
          "metadata": {},
          "output_type": "execute_result"
        }
      ],
      "source": [
        "sess = np.array(df['Learning_Sessions'])\n",
        "var_sess = np.var(sess)\n",
        "var_sess"
      ]
    },
    {
      "cell_type": "markdown",
      "metadata": {},
      "source": [
        "####  Question : Write a Python program that declares variables of different data types (e.g., string, integer, float, and boolean). Output the variables in a sentence format using print() and f-strings."
      ]
    },
    {
      "cell_type": "code",
      "execution_count": 37,
      "metadata": {},
      "outputs": [
        {
          "name": "stdout",
          "output_type": "stream",
          "text": [
            "My name is Deepesh. I am 19 years old.\n",
            "My height is 6.0 feet.\n",
            "Am I a student? True.\n"
          ]
        }
      ],
      "source": [
        "name = \"Deepesh\"  \n",
        "age = 19\n",
        "height = 6.0\n",
        "is_stud = True  \n",
        "\n",
        "print(f\"My name is {name}. I am {age} years old.\")\n",
        "print(f\"My height is {height} feet.\")\n",
        "print(f\"Am I a student? {is_stud}.\")"
      ]
    },
    {
      "cell_type": "markdown",
      "metadata": {},
      "source": [
        "#### Question : Write a Python program that takes an integer input and checks whether the number is positive, negative, or zero using conditional statements (if-else)."
      ]
    },
    {
      "cell_type": "code",
      "execution_count": 39,
      "metadata": {},
      "outputs": [
        {
          "name": "stdout",
          "output_type": "stream",
          "text": [
            "-6 is negative.\n"
          ]
        }
      ],
      "source": [
        "num = int(input(\"Enter a number: \"))\n",
        "if num > 0:\n",
        "    print(f\"{num} is positive.\")\n",
        "elif num < 0:\n",
        "    print(f\"{num} is negative.\")\n",
        "else: \n",
        "    print(f\"{num} is zero.\")"
      ]
    },
    {
      "cell_type": "markdown",
      "metadata": {},
      "source": [
        "### Question : Write a Python program that takes a number as input and prints the multiplication table for that number (from 1 to 10)."
      ]
    },
    {
      "cell_type": "code",
      "execution_count": 40,
      "metadata": {},
      "outputs": [
        {
          "name": "stdout",
          "output_type": "stream",
          "text": [
            "\n",
            "Multiplication Table for 2:\n",
            "2 × 1 = 2\n",
            "2 × 2 = 4\n",
            "2 × 3 = 6\n",
            "2 × 4 = 8\n",
            "2 × 5 = 10\n",
            "2 × 6 = 12\n",
            "2 × 7 = 14\n",
            "2 × 8 = 16\n",
            "2 × 9 = 18\n",
            "2 × 10 = 20\n"
          ]
        }
      ],
      "source": [
        "num = int(input(\"Enter a number: \"))\n",
        "print(f\"\\nMultiplication Table for {num}:\")\n",
        "for i in range(1, 11):\n",
        "    print(f\"{num} × {i} = {num * i}\")"
      ]
    },
    {
      "cell_type": "code",
      "execution_count": null,
      "metadata": {},
      "outputs": [],
      "source": []
    }
  ],
  "metadata": {
    "colab": {
      "provenance": []
    },
    "kernelspec": {
      "display_name": "Python 3",
      "name": "python3"
    },
    "language_info": {
      "codemirror_mode": {
        "name": "ipython",
        "version": 3
      },
      "file_extension": ".py",
      "mimetype": "text/x-python",
      "name": "python",
      "nbconvert_exporter": "python",
      "pygments_lexer": "ipython3",
      "version": "3.12.3"
    }
  },
  "nbformat": 4,
  "nbformat_minor": 0
}
